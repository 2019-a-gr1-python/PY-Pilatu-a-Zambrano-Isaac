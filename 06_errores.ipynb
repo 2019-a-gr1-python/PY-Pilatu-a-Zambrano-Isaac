{
 "cells": [
  {
   "cell_type": "code",
   "execution_count": 1,
   "metadata": {},
   "outputs": [],
   "source": [
    "isaac={\n",
    "    'nombre':'Isaac'\n",
    "}"
   ]
  },
  {
   "cell_type": "code",
   "execution_count": 3,
   "metadata": {},
   "outputs": [],
   "source": [
    "#isaac['asd']  --> KeyError\n",
    "#++ --> SyntaxError\n",
    "# asd.asd    -->NameError\n",
    "#'1'+1 --> TypeError"
   ]
  },
  {
   "cell_type": "code",
   "execution_count": 13,
   "metadata": {},
   "outputs": [
    {
     "name": "stdout",
     "output_type": "stream",
     "text": [
      "Error: unsupported operand type(s) for +: 'int' and 'str' TYPE or KEY ERROR\n"
     ]
    }
   ],
   "source": [
    "try:\n",
    "    isaac['nombre']\n",
    "    1+'1'\n",
    "except NameError as nameError:\n",
    "    pritn(f\"Error {nameError} NAME ERROR\")\n",
    "except (TypeError, KeyError) as typeKeyError:\n",
    "    print(f\"Error: {typeKeyError} TYPE or KEY ERROR\")\n",
    "except Exception as error:\n",
    "    print(f\"Error: {error} ERRORES GENERALES\")\n",
    "    print(f\"Traceback: {error.__traceback__}\")"
   ]
  },
  {
   "cell_type": "code",
   "execution_count": null,
   "metadata": {},
   "outputs": [],
   "source": []
  },
  {
   "cell_type": "code",
   "execution_count": null,
   "metadata": {},
   "outputs": [],
   "source": []
  },
  {
   "cell_type": "code",
   "execution_count": null,
   "metadata": {},
   "outputs": [],
   "source": []
  },
  {
   "cell_type": "code",
   "execution_count": null,
   "metadata": {},
   "outputs": [],
   "source": []
  }
 ],
 "metadata": {
  "kernelspec": {
   "display_name": "Python 3",
   "language": "python",
   "name": "python3"
  },
  "language_info": {
   "codemirror_mode": {
    "name": "ipython",
    "version": 3
   },
   "file_extension": ".py",
   "mimetype": "text/x-python",
   "name": "python",
   "nbconvert_exporter": "python",
   "pygments_lexer": "ipython3",
   "version": "3.7.1"
  }
 },
 "nbformat": 4,
 "nbformat_minor": 2
}
