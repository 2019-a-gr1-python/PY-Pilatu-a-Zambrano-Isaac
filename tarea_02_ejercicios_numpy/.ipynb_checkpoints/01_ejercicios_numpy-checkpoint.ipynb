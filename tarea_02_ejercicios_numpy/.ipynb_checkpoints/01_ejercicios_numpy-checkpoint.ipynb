{
 "cells": [
  {
   "cell_type": "markdown",
   "metadata": {},
   "source": [
    "# EJERCICIOS CON NUMPY"
   ]
  },
  {
   "cell_type": "code",
   "execution_count": 1,
   "metadata": {},
   "outputs": [],
   "source": [
    "import numpy as np"
   ]
  },
  {
   "cell_type": "markdown",
   "metadata": {},
   "source": [
    "## Ejercicio 1: Problemas de Matrices\n",
    "#### Bibliografía: https://www.superprof.es/apuntes/escolar/matematicas/algebralineal/matrices/matrices.html#tema_1\n",
    "![image.png](https://www.superprof.es/apuntes/file/2019/05/50-15577554830097-764.gif)\n",
    "## Calcular \n",
    "### A+B\n",
    "### A-B\n",
    "### AxB\n",
    "### BxA\n",
    "### A.B\n",
    "### A^t"
   ]
  },
  {
   "cell_type": "code",
   "execution_count": 18,
   "metadata": {},
   "outputs": [
    {
     "data": {
      "text/plain": [
       "array([[2, 0, 1],\n",
       "       [3, 0, 0],\n",
       "       [5, 1, 1]])"
      ]
     },
     "execution_count": 18,
     "metadata": {},
     "output_type": "execute_result"
    }
   ],
   "source": [
    "#A\n",
    "A=np.array([[2,0,1],[3,0,0],[5,1,1]])\n",
    "A"
   ]
  },
  {
   "cell_type": "code",
   "execution_count": 5,
   "metadata": {},
   "outputs": [
    {
     "data": {
      "text/plain": [
       "array([[1, 0, 1],\n",
       "       [1, 2, 1],\n",
       "       [1, 1, 0]])"
      ]
     },
     "execution_count": 5,
     "metadata": {},
     "output_type": "execute_result"
    }
   ],
   "source": [
    "#B\n",
    "B=np.array([[1,0,1],[1,2,1],[1,1,0]])\n",
    "B"
   ]
  },
  {
   "cell_type": "code",
   "execution_count": 7,
   "metadata": {},
   "outputs": [
    {
     "data": {
      "text/plain": [
       "array([[3, 0, 2],\n",
       "       [4, 2, 1],\n",
       "       [6, 2, 1]])"
      ]
     },
     "execution_count": 7,
     "metadata": {},
     "output_type": "execute_result"
    }
   ],
   "source": [
    "#A+B\n",
    "A+B"
   ]
  },
  {
   "cell_type": "code",
   "execution_count": 8,
   "metadata": {},
   "outputs": [
    {
     "data": {
      "text/plain": [
       "array([[ 1,  0,  0],\n",
       "       [ 2, -2, -1],\n",
       "       [ 4,  0,  1]])"
      ]
     },
     "execution_count": 8,
     "metadata": {},
     "output_type": "execute_result"
    }
   ],
   "source": [
    "#A-B\n",
    "A-B"
   ]
  },
  {
   "cell_type": "code",
   "execution_count": 19,
   "metadata": {},
   "outputs": [
    {
     "data": {
      "text/plain": [
       "array([[2, 0, 1],\n",
       "       [3, 0, 0],\n",
       "       [5, 1, 0]])"
      ]
     },
     "execution_count": 19,
     "metadata": {},
     "output_type": "execute_result"
    }
   ],
   "source": [
    "#AxB\n",
    "A*B"
   ]
  },
  {
   "cell_type": "code",
   "execution_count": 20,
   "metadata": {},
   "outputs": [
    {
     "data": {
      "text/plain": [
       "array([[2, 0, 1],\n",
       "       [3, 0, 0],\n",
       "       [5, 1, 0]])"
      ]
     },
     "execution_count": 20,
     "metadata": {},
     "output_type": "execute_result"
    }
   ],
   "source": [
    "#BxA\n",
    "B*A"
   ]
  },
  {
   "cell_type": "code",
   "execution_count": 21,
   "metadata": {},
   "outputs": [
    {
     "data": {
      "text/plain": [
       "array([[3, 1, 2],\n",
       "       [3, 0, 3],\n",
       "       [7, 3, 6]])"
      ]
     },
     "execution_count": 21,
     "metadata": {},
     "output_type": "execute_result"
    }
   ],
   "source": [
    "#A.B\n",
    "np.dot(A,B)"
   ]
  },
  {
   "cell_type": "code",
   "execution_count": 22,
   "metadata": {},
   "outputs": [
    {
     "data": {
      "text/plain": [
       "array([[2, 3, 5],\n",
       "       [0, 0, 1],\n",
       "       [1, 0, 1]])"
      ]
     },
     "execution_count": 22,
     "metadata": {},
     "output_type": "execute_result"
    }
   ],
   "source": [
    "#A^t\n",
    "np.transpose(A)"
   ]
  },
  {
   "cell_type": "markdown",
   "metadata": {},
   "source": [
    "## Calcular\n",
    "#### Bibliografía: http://www.edu.xunta.gal/centros/iesvilalonga/system/files/operaciones%20matrices_0.pdf\n",
    "### -2A+3B\n",
    "### (1/2)A.B\n",
    "### B.(-A)\n",
    "### A.A - B.B"
   ]
  },
  {
   "cell_type": "code",
   "execution_count": 25,
   "metadata": {},
   "outputs": [
    {
     "data": {
      "text/plain": [
       "array([[-1,  0,  1],\n",
       "       [-3,  6,  3],\n",
       "       [-7,  1, -2]])"
      ]
     },
     "execution_count": 25,
     "metadata": {},
     "output_type": "execute_result"
    }
   ],
   "source": [
    "(-2*A)+(3*B)"
   ]
  },
  {
   "cell_type": "code",
   "execution_count": 27,
   "metadata": {},
   "outputs": [
    {
     "data": {
      "text/plain": [
       "array([[1.5, 0.5, 1. ],\n",
       "       [1.5, 0. , 1.5],\n",
       "       [3.5, 1.5, 3. ]])"
      ]
     },
     "execution_count": 27,
     "metadata": {},
     "output_type": "execute_result"
    }
   ],
   "source": [
    "((1.0/2.0)*A).dot(B)"
   ]
  },
  {
   "cell_type": "code",
   "execution_count": 28,
   "metadata": {},
   "outputs": [
    {
     "data": {
      "text/plain": [
       "array([[ -7,  -1,  -2],\n",
       "       [-13,  -1,  -2],\n",
       "       [ -5,   0,  -1]])"
      ]
     },
     "execution_count": 28,
     "metadata": {},
     "output_type": "execute_result"
    }
   ],
   "source": [
    "B.dot(-1*A)"
   ]
  },
  {
   "cell_type": "code",
   "execution_count": 29,
   "metadata": {},
   "outputs": [
    {
     "data": {
      "text/plain": [
       "array([[ 7,  0,  2],\n",
       "       [ 2, -5,  0],\n",
       "       [16, -1,  4]])"
      ]
     },
     "execution_count": 29,
     "metadata": {},
     "output_type": "execute_result"
    }
   ],
   "source": [
    "A.dot(A)-B.dot(B)"
   ]
  },
  {
   "cell_type": "markdown",
   "metadata": {},
   "source": [
    "## Ejercicio 2: Problemas de Trigonometría\n",
    "#### Bibliografía: https://www.matesfacil.com/ESO/geometria_plana/trigonometria/problemas-resueltos-trigonometria-secundaria-seno-coseno-triangulo-angulo.html\n",
    "![image.png](https://www.matesfacil.com/ESO/geometria_plana/trigonometria/T1.png)\n",
    "![image.png](https://www.matesfacil.com/ESO/geometria_plana/trigonometria/T2.png)\n",
    "![image.png](https://www.matesfacil.com/ESO/geometria_plana/trigonometria/T3.png)\n",
    "### Problema 1:\n",
    "#### Se desea sujetar un poste de 20 metros de altura con un cable que parte de la parte superior del mismo hasta el suelo de modo que forme un ángulo de 30º. Calcular el precio del cable si cada metro cuesta 12 dolares.\n",
    "![image.png](https://www.matesfacil.com/ESO/geometria_plana/trigonometria/P1.png)\n",
    "\n"
   ]
  },
  {
   "cell_type": "code",
   "execution_count": 35,
   "metadata": {},
   "outputs": [
    {
     "name": "stdout",
     "output_type": "stream",
     "text": [
      "El precio total del cableado es de: 480.0000000000001$\n"
     ]
    }
   ],
   "source": [
    "def problema1():\n",
    "    cat_opuesto=20\n",
    "    angulo=30*np.pi/180\n",
    "    precio_por_metro=12\n",
    "    hipotenusa=cat_opuesto/np.sin(angulo)\n",
    "    resultado_1=hipotenusa*precio_por_metro\n",
    "    print(f\"El precio total del cableado es de: {resultado}$\")\n",
    "\n",
    "problema1()"
   ]
  },
  {
   "cell_type": "markdown",
   "metadata": {},
   "source": [
    "### Problema 2:\n",
    "#### Calcular la altura, a, de un árbol sabiendo que, si nos situamos 8 metros de la base del tronco, vemos la parte superior de su copa en un ángulo de 36.87º.\n",
    "\n",
    "![image.png](https://www.matesfacil.com/ESO/geometria_plana/trigonometria/P2.png)"
   ]
  },
  {
   "cell_type": "code",
   "execution_count": 37,
   "metadata": {},
   "outputs": [
    {
     "name": "stdout",
     "output_type": "stream",
     "text": [
      "La altua del arbol es de 6.000022330242729mts\n"
     ]
    }
   ],
   "source": [
    "def problema2():\n",
    "    cat_adayacente=8\n",
    "    angulo=(36.87)*np.pi/180\n",
    "    resultado=np.tan(angulo)*cat_adayacente\n",
    "    print(f\"La altua del arbol es de {resultado}mts\")\n",
    "    \n",
    "problema2()"
   ]
  },
  {
   "cell_type": "markdown",
   "metadata": {},
   "source": [
    "### Problema 3:\n",
    "#### Calcular cuánto mide la mediana de un triángulo equilátero (los tres ángulos son de 60 grados) cuyos lados miden 12cm.\n",
    "![img.png](https://www.matesfacil.com/ESO/geometria_plana/trigonometria/P3b.png)\n"
   ]
  },
  {
   "cell_type": "code",
   "execution_count": 39,
   "metadata": {},
   "outputs": [
    {
     "name": "stdout",
     "output_type": "stream",
     "text": [
      "La altura de la mediana es de 10.392304845413264mts\n"
     ]
    }
   ],
   "source": [
    "def problema3():\n",
    "    angulo=60*np.pi/180\n",
    "    hipotenusa=12\n",
    "    m=hipotenusa*np.sin(angulo)\n",
    "    print(f\"La altura de la mediana es de {m}mts\")\n",
    "    \n",
    "problema3()"
   ]
  },
  {
   "cell_type": "markdown",
   "metadata": {},
   "source": [
    "### Problema 4:\n",
    "#### Miguel desea calcular la altura de dos edificios que están situados a 100 metros el uno del otro. Como tiene acceso al edificio más alto, observa que desde la azotea de dicho edificio se avista la azotea del otro bajo un ángulo de α=73,3∘. Desde la base del mismo edificio, se ve la azotea del otro edificio bajo un ángulo de β=19,29∘.¿Puede Miguel calcular la altura de los edificios con los tres datos con los que cuenta? En caso afirmativo, ¿cuál es la altura de cada uno?\n",
    "![imagen.png](https://www.matesfacil.com/ESO/geometria_plana/trigonometria/P9.png)"
   ]
  },
  {
   "cell_type": "markdown",
   "metadata": {},
   "source": [
    "![img.png](https://www.matesfacil.com/ESO/geometria_plana/trigonometria/P9b.png)"
   ]
  },
  {
   "cell_type": "code",
   "execution_count": 42,
   "metadata": {},
   "outputs": [
    {
     "name": "stdout",
     "output_type": "stream",
     "text": [
      "La altura del edificio A es: 65.00134723218488mts.\n",
      "La altura del edificio B es:34.999909450529955mts.\n"
     ]
    }
   ],
   "source": [
    "def problema4():\n",
    "    angulo_a=73.3*np.pi/180\n",
    "    angulo_b=19.29*np.pi/180\n",
    "    c=100\n",
    "    d=c\n",
    "    x=d/np.tan(angulo_a)\n",
    "    y=np.tan(angulo_b)*c\n",
    "    altura_edif_a=x+y\n",
    "    altura_edif_b=y\n",
    "    print(f\"La altura del edificio A es: {altura_edif_a}mts.\\nLa altura del edificio B es:{altura_edif_b}mts.\")\n",
    "    \n",
    "problema4()"
   ]
  },
  {
   "cell_type": "code",
   "execution_count": null,
   "metadata": {},
   "outputs": [],
   "source": []
  },
  {
   "cell_type": "code",
   "execution_count": null,
   "metadata": {},
   "outputs": [],
   "source": []
  },
  {
   "cell_type": "code",
   "execution_count": null,
   "metadata": {},
   "outputs": [],
   "source": []
  },
  {
   "cell_type": "code",
   "execution_count": null,
   "metadata": {},
   "outputs": [],
   "source": []
  },
  {
   "cell_type": "code",
   "execution_count": null,
   "metadata": {},
   "outputs": [],
   "source": []
  },
  {
   "cell_type": "code",
   "execution_count": null,
   "metadata": {},
   "outputs": [],
   "source": []
  },
  {
   "cell_type": "code",
   "execution_count": null,
   "metadata": {},
   "outputs": [],
   "source": []
  },
  {
   "cell_type": "code",
   "execution_count": null,
   "metadata": {},
   "outputs": [],
   "source": []
  },
  {
   "cell_type": "code",
   "execution_count": null,
   "metadata": {},
   "outputs": [],
   "source": []
  },
  {
   "cell_type": "code",
   "execution_count": null,
   "metadata": {},
   "outputs": [],
   "source": []
  },
  {
   "cell_type": "markdown",
   "metadata": {},
   "source": [
    "## Ejercicio 4:\n",
    "Descripción ejercicio"
   ]
  },
  {
   "cell_type": "code",
   "execution_count": null,
   "metadata": {},
   "outputs": [],
   "source": []
  },
  {
   "cell_type": "markdown",
   "metadata": {},
   "source": [
    "## Ejercicio 5:\n",
    "Descripción ejercicio"
   ]
  },
  {
   "cell_type": "code",
   "execution_count": null,
   "metadata": {},
   "outputs": [],
   "source": []
  },
  {
   "cell_type": "markdown",
   "metadata": {},
   "source": [
    "## Ejercicio 6:\n",
    "Descripción ejercicio"
   ]
  },
  {
   "cell_type": "code",
   "execution_count": null,
   "metadata": {},
   "outputs": [],
   "source": []
  },
  {
   "cell_type": "markdown",
   "metadata": {},
   "source": [
    "## Ejercicio 7:\n",
    "Descripción ejercicio"
   ]
  },
  {
   "cell_type": "code",
   "execution_count": null,
   "metadata": {},
   "outputs": [],
   "source": []
  },
  {
   "cell_type": "markdown",
   "metadata": {},
   "source": [
    "## Ejercicio 8:\n",
    " Descripción ejercicio"
   ]
  },
  {
   "cell_type": "code",
   "execution_count": null,
   "metadata": {},
   "outputs": [],
   "source": []
  },
  {
   "cell_type": "markdown",
   "metadata": {},
   "source": [
    "## Ejercicio 9:\n",
    "Descripción ejercicio"
   ]
  },
  {
   "cell_type": "code",
   "execution_count": null,
   "metadata": {},
   "outputs": [],
   "source": []
  },
  {
   "cell_type": "markdown",
   "metadata": {},
   "source": [
    "## Ejercicio 10:\n",
    "Descripción ejercicio"
   ]
  },
  {
   "cell_type": "code",
   "execution_count": null,
   "metadata": {},
   "outputs": [],
   "source": []
  },
  {
   "cell_type": "markdown",
   "metadata": {},
   "source": [
    "## Ejercicio 11:\n",
    "Descripción ejercicio"
   ]
  },
  {
   "cell_type": "code",
   "execution_count": null,
   "metadata": {},
   "outputs": [],
   "source": []
  },
  {
   "cell_type": "markdown",
   "metadata": {},
   "source": [
    "## Ejercicio 12:\n",
    "Descripción ejercicio"
   ]
  },
  {
   "cell_type": "code",
   "execution_count": null,
   "metadata": {},
   "outputs": [],
   "source": []
  },
  {
   "cell_type": "markdown",
   "metadata": {},
   "source": [
    "## Ejercicio 13:\n",
    "Descripción ejercicio"
   ]
  },
  {
   "cell_type": "code",
   "execution_count": null,
   "metadata": {},
   "outputs": [],
   "source": []
  },
  {
   "cell_type": "markdown",
   "metadata": {},
   "source": [
    "## Ejercicio 14:\n",
    "Descripción ejercicio"
   ]
  },
  {
   "cell_type": "code",
   "execution_count": null,
   "metadata": {},
   "outputs": [],
   "source": []
  },
  {
   "cell_type": "markdown",
   "metadata": {},
   "source": [
    "## Ejercicio 15:\n",
    "Descripción ejercicio"
   ]
  },
  {
   "cell_type": "code",
   "execution_count": null,
   "metadata": {},
   "outputs": [],
   "source": []
  },
  {
   "cell_type": "markdown",
   "metadata": {},
   "source": [
    "## Ejercicio 16:\n",
    "Descripción ejercicio"
   ]
  },
  {
   "cell_type": "code",
   "execution_count": null,
   "metadata": {},
   "outputs": [],
   "source": []
  },
  {
   "cell_type": "markdown",
   "metadata": {},
   "source": [
    "## Ejercicio 17:\n",
    "Descripción ejercicio"
   ]
  },
  {
   "cell_type": "code",
   "execution_count": null,
   "metadata": {},
   "outputs": [],
   "source": []
  },
  {
   "cell_type": "markdown",
   "metadata": {},
   "source": [
    "## Ejercicio 18:\n",
    "Descripción ejercicio"
   ]
  },
  {
   "cell_type": "code",
   "execution_count": null,
   "metadata": {},
   "outputs": [],
   "source": []
  }
 ],
 "metadata": {
  "kernelspec": {
   "display_name": "Python 3",
   "language": "python",
   "name": "python3"
  },
  "language_info": {
   "codemirror_mode": {
    "name": "ipython",
    "version": 3
   },
   "file_extension": ".py",
   "mimetype": "text/x-python",
   "name": "python",
   "nbconvert_exporter": "python",
   "pygments_lexer": "ipython3",
   "version": "3.7.3"
  }
 },
 "nbformat": 4,
 "nbformat_minor": 2
}
