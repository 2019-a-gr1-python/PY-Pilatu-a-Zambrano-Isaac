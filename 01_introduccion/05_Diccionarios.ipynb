{
 "cells": [
  {
   "cell_type": "code",
   "execution_count": 2,
   "metadata": {},
   "outputs": [],
   "source": [
    "isaac={\n",
    "    'nombre':'Isaac',\n",
    "    'apellido':'Pilatuña',\n",
    "    'edad':22,\n",
    "    'hijos':None,\n",
    "    'casado':False,\n",
    "    'sueldo':25.55,\n",
    "    'mascotas':[\n",
    "        {\n",
    "            'nombre':'tarzan',\n",
    "            'edad':5\n",
    "        }\n",
    "    ],\n",
    "    'notas':(15,16,17)\n",
    "}"
   ]
  },
  {
   "cell_type": "code",
   "execution_count": 3,
   "metadata": {},
   "outputs": [
    {
     "data": {
      "text/plain": [
       "'Isaac'"
      ]
     },
     "execution_count": 3,
     "metadata": {},
     "output_type": "execute_result"
    }
   ],
   "source": [
    "isaac['nombre']"
   ]
  },
  {
   "cell_type": "code",
   "execution_count": 4,
   "metadata": {},
   "outputs": [
    {
     "data": {
      "text/plain": [
       "'tarzan'"
      ]
     },
     "execution_count": 4,
     "metadata": {},
     "output_type": "execute_result"
    }
   ],
   "source": [
    "isaac['mascotas'][0]['nombre']"
   ]
  },
  {
   "cell_type": "code",
   "execution_count": 5,
   "metadata": {},
   "outputs": [
    {
     "data": {
      "text/plain": [
       "'Isaac'"
      ]
     },
     "execution_count": 5,
     "metadata": {},
     "output_type": "execute_result"
    }
   ],
   "source": [
    "isaac.get('nombre')"
   ]
  },
  {
   "cell_type": "code",
   "execution_count": 6,
   "metadata": {},
   "outputs": [
    {
     "data": {
      "text/plain": [
       "'Pilatuña'"
      ]
     },
     "execution_count": 6,
     "metadata": {},
     "output_type": "execute_result"
    }
   ],
   "source": [
    "isaac.get('apellido')"
   ]
  },
  {
   "cell_type": "code",
   "execution_count": 7,
   "metadata": {},
   "outputs": [
    {
     "data": {
      "text/plain": [
       "{'nombre': 'Isaac',\n",
       " 'apellido': 'Pilatuña',\n",
       " 'edad': 22,\n",
       " 'hijos': None,\n",
       " 'casado': False,\n",
       " 'sueldo': 25.55,\n",
       " 'mascotas': [{'nombre': 'tarzan', 'edad': 5}],\n",
       " 'notas': (15, 16, 17)}"
      ]
     },
     "execution_count": 7,
     "metadata": {},
     "output_type": "execute_result"
    }
   ],
   "source": [
    "isaac"
   ]
  },
  {
   "cell_type": "code",
   "execution_count": 8,
   "metadata": {},
   "outputs": [
    {
     "data": {
      "text/plain": [
       "False"
      ]
     },
     "execution_count": 8,
     "metadata": {},
     "output_type": "execute_result"
    }
   ],
   "source": [
    "isaac.pop('casado')"
   ]
  },
  {
   "cell_type": "code",
   "execution_count": 9,
   "metadata": {},
   "outputs": [
    {
     "data": {
      "text/plain": [
       "{'nombre': 'Isaac',\n",
       " 'apellido': 'Pilatuña',\n",
       " 'edad': 22,\n",
       " 'hijos': None,\n",
       " 'sueldo': 25.55,\n",
       " 'mascotas': [{'nombre': 'tarzan', 'edad': 5}],\n",
       " 'notas': (15, 16, 17)}"
      ]
     },
     "execution_count": 9,
     "metadata": {},
     "output_type": "execute_result"
    }
   ],
   "source": [
    "isaac"
   ]
  },
  {
   "cell_type": "code",
   "execution_count": 10,
   "metadata": {},
   "outputs": [
    {
     "name": "stdout",
     "output_type": "stream",
     "text": [
      "Llave: nombre    Valor:Isaac\n",
      "Llave: apellido    Valor:Pilatuña\n",
      "Llave: edad    Valor:22\n",
      "Llave: hijos    Valor:None\n",
      "Llave: sueldo    Valor:25.55\n",
      "Llave: mascotas    Valor:[{'nombre': 'tarzan', 'edad': 5}]\n",
      "Llave: notas    Valor:(15, 16, 17)\n"
     ]
    }
   ],
   "source": [
    "for key in isaac.keys():\n",
    "    print(f\"Llave: {key}    Valor:{isaac[key]}\")"
   ]
  },
  {
   "cell_type": "code",
   "execution_count": 12,
   "metadata": {},
   "outputs": [],
   "source": [
    "valores_nuevos={\n",
    "    'talia':'Talia',\n",
    "    'rafico':'Rafico',\n",
    "    'lula':'Lula'\n",
    "}"
   ]
  },
  {
   "cell_type": "code",
   "execution_count": 13,
   "metadata": {},
   "outputs": [],
   "source": [
    "isaac.update(valores_nuevos)"
   ]
  },
  {
   "cell_type": "code",
   "execution_count": 14,
   "metadata": {},
   "outputs": [
    {
     "data": {
      "text/plain": [
       "{'nombre': 'Isaac',\n",
       " 'apellido': 'Pilatuña',\n",
       " 'edad': 22,\n",
       " 'hijos': None,\n",
       " 'sueldo': 25.55,\n",
       " 'mascotas': [{'nombre': 'tarzan', 'edad': 5}],\n",
       " 'notas': (15, 16, 17),\n",
       " 'talia': 'Talia',\n",
       " 'rafico': 'Rafico',\n",
       " 'lula': 'Lula'}"
      ]
     },
     "execution_count": 14,
     "metadata": {},
     "output_type": "execute_result"
    }
   ],
   "source": [
    "isaac"
   ]
  },
  {
   "cell_type": "code",
   "execution_count": 15,
   "metadata": {},
   "outputs": [],
   "source": [
    "isaac.get('mascotas')[0].update(valores_nuevos)"
   ]
  },
  {
   "cell_type": "code",
   "execution_count": 16,
   "metadata": {},
   "outputs": [
    {
     "data": {
      "text/plain": [
       "{'nombre': 'Isaac',\n",
       " 'apellido': 'Pilatuña',\n",
       " 'edad': 22,\n",
       " 'hijos': None,\n",
       " 'sueldo': 25.55,\n",
       " 'mascotas': [{'nombre': 'tarzan',\n",
       "   'edad': 5,\n",
       "   'talia': 'Talia',\n",
       "   'rafico': 'Rafico',\n",
       "   'lula': 'Lula'}],\n",
       " 'notas': (15, 16, 17),\n",
       " 'talia': 'Talia',\n",
       " 'rafico': 'Rafico',\n",
       " 'lula': 'Lula'}"
      ]
     },
     "execution_count": 16,
     "metadata": {},
     "output_type": "execute_result"
    }
   ],
   "source": [
    "isaac"
   ]
  },
  {
   "cell_type": "code",
   "execution_count": 17,
   "metadata": {},
   "outputs": [],
   "source": [
    "isaac.get('asd')"
   ]
  },
  {
   "cell_type": "code",
   "execution_count": 19,
   "metadata": {},
   "outputs": [],
   "source": [
    "# isaac['asd'] --> Ocasiona un error de llave"
   ]
  },
  {
   "cell_type": "code",
   "execution_count": null,
   "metadata": {},
   "outputs": [],
   "source": []
  },
  {
   "cell_type": "code",
   "execution_count": null,
   "metadata": {},
   "outputs": [],
   "source": []
  },
  {
   "cell_type": "code",
   "execution_count": null,
   "metadata": {},
   "outputs": [],
   "source": []
  }
 ],
 "metadata": {
  "kernelspec": {
   "display_name": "Python 3",
   "language": "python",
   "name": "python3"
  },
  "language_info": {
   "codemirror_mode": {
    "name": "ipython",
    "version": 3
   },
   "file_extension": ".py",
   "mimetype": "text/x-python",
   "name": "python",
   "nbconvert_exporter": "python",
   "pygments_lexer": "ipython3",
   "version": "3.7.1"
  }
 },
 "nbformat": 4,
 "nbformat_minor": 2
}
