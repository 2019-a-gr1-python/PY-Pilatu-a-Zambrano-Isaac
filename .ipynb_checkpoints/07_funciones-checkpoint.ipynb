{
 "cells": [
  {
   "cell_type": "code",
   "execution_count": 3,
   "metadata": {},
   "outputs": [],
   "source": [
    "def hola_mundo():\n",
    "    print(f\"Hola Mundo!\")"
   ]
  },
  {
   "cell_type": "code",
   "execution_count": 4,
   "metadata": {},
   "outputs": [
    {
     "name": "stdout",
     "output_type": "stream",
     "text": [
      "Hola Mundo!\n"
     ]
    }
   ],
   "source": [
    "hola_mundo()"
   ]
  },
  {
   "cell_type": "code",
   "execution_count": 5,
   "metadata": {},
   "outputs": [
    {
     "name": "stdout",
     "output_type": "stream",
     "text": [
      "Hola Mundo!\n"
     ]
    },
    {
     "data": {
      "text/plain": [
       "NoneType"
      ]
     },
     "execution_count": 5,
     "metadata": {},
     "output_type": "execute_result"
    }
   ],
   "source": [
    "type(hola_mundo())"
   ]
  },
  {
   "cell_type": "code",
   "execution_count": 6,
   "metadata": {},
   "outputs": [
    {
     "data": {
      "text/plain": [
       "function"
      ]
     },
     "execution_count": 6,
     "metadata": {},
     "output_type": "execute_result"
    }
   ],
   "source": [
    "type(hola_mundo)"
   ]
  },
  {
   "cell_type": "code",
   "execution_count": 7,
   "metadata": {},
   "outputs": [],
   "source": [
    "def sumar_dos_numeros(num_uno, num_dos):\n",
    "    return num_uno+num_dos"
   ]
  },
  {
   "cell_type": "code",
   "execution_count": 10,
   "metadata": {},
   "outputs": [
    {
     "name": "stdout",
     "output_type": "stream",
     "text": [
      "3\n",
      "<class 'int'>\n"
     ]
    }
   ],
   "source": [
    "print(sumar_dos_numeros(1,2))\n",
    "print(type(sumar_dos_numeros(1,2)))"
   ]
  },
  {
   "cell_type": "code",
   "execution_count": 11,
   "metadata": {},
   "outputs": [],
   "source": [
    "def imprimir_universidad(nombre='EPN'): #PARAMETROS OPCIONALES\n",
    "    print(f\"Universidad: {nombre}\")"
   ]
  },
  {
   "cell_type": "code",
   "execution_count": 14,
   "metadata": {},
   "outputs": [
    {
     "name": "stdout",
     "output_type": "stream",
     "text": [
      "Universidad: EPN\n"
     ]
    }
   ],
   "source": [
    "imprimir_universidad()  #SIN PARAMETRO"
   ]
  },
  {
   "cell_type": "code",
   "execution_count": 15,
   "metadata": {},
   "outputs": [
    {
     "name": "stdout",
     "output_type": "stream",
     "text": [
      "Universidad: UCE\n"
     ]
    }
   ],
   "source": [
    "imprimir_universidad('UCE') #CON PARAMETRO"
   ]
  },
  {
   "cell_type": "code",
   "execution_count": 18,
   "metadata": {},
   "outputs": [],
   "source": [
    "def imprimir_carro(color,placa,hp,anio):\n",
    "    print(f\"Color: {color}\")\n",
    "    print(f\"Placa: {placa}\")\n",
    "    print(f\"Caballos de fuerza: {hp}\")\n",
    "    print(f\"Año: {anio}\")"
   ]
  },
  {
   "cell_type": "code",
   "execution_count": 19,
   "metadata": {},
   "outputs": [
    {
     "name": "stdout",
     "output_type": "stream",
     "text": [
      "Color: Negro\n",
      "Placa: PBA-5487\n",
      "Caballos de fuerza: 2500.0\n",
      "Año: 2016\n"
     ]
    }
   ],
   "source": [
    "imprimir_carro('Negro','PBA-5487',2500.00,2016)"
   ]
  },
  {
   "cell_type": "code",
   "execution_count": 21,
   "metadata": {},
   "outputs": [
    {
     "name": "stdout",
     "output_type": "stream",
     "text": [
      "Color: Negro\n",
      "Placa: PBA-5487\n",
      "Caballos de fuerza: 2500.0\n",
      "Año: 2016\n"
     ]
    }
   ],
   "source": [
    "#Named Parameters\n",
    "imprimir_carro(placa='PBA-5487',\n",
    "               color='Negro',\n",
    "               hp=2500.00,\n",
    "               anio=2016)"
   ]
  },
  {
   "cell_type": "code",
   "execution_count": 22,
   "metadata": {},
   "outputs": [
    {
     "name": "stdout",
     "output_type": "stream",
     "text": [
      "Color: Negro\n",
      "Placa: PBA-5487\n",
      "Caballos de fuerza: 2500.0\n",
      "Año: 2016\n"
     ]
    }
   ],
   "source": [
    "imprimir_carro('Negro',\n",
    "               anio=2016,\n",
    "                placa='PBA-5487',\n",
    "               hp=2500.00)"
   ]
  },
  {
   "cell_type": "code",
   "execution_count": 30,
   "metadata": {},
   "outputs": [],
   "source": [
    "def sumar_numeros(primer_numero, *numeros):\n",
    "    #print(type(primer_numero)) \n",
    "    #print(type(numeros)) --->Llegará como tupla\n",
    "    total=primer_numero\n",
    "    for numero in numeros:\n",
    "        print(f\"Numero: {numero}\")\n",
    "        total+=numero\n",
    "    return total"
   ]
  },
  {
   "cell_type": "code",
   "execution_count": 31,
   "metadata": {},
   "outputs": [
    {
     "name": "stdout",
     "output_type": "stream",
     "text": [
      "Numero: 2\n",
      "Numero: 3\n",
      "Numero: 4\n",
      "Numero: 5\n"
     ]
    },
    {
     "data": {
      "text/plain": [
       "15"
      ]
     },
     "execution_count": 31,
     "metadata": {},
     "output_type": "execute_result"
    }
   ],
   "source": [
    "sumar_numeros(1,2,3,4,5)"
   ]
  },
  {
   "cell_type": "code",
   "execution_count": 43,
   "metadata": {},
   "outputs": [],
   "source": [
    "def libreria( **key_word_arguments):\n",
    "    for key in key_word_arguments.keys():\n",
    "        print(f\"{key}: {key_word_arguments[key]}\")"
   ]
  },
  {
   "cell_type": "code",
   "execution_count": 45,
   "metadata": {},
   "outputs": [
    {
     "name": "stdout",
     "output_type": "stream",
     "text": [
      "Llave: nombre    Valor:JS\n",
      "Llave: direccion    Valor:192.168.0.1\n",
      "Llave: puerto    Valor:80\n"
     ]
    }
   ],
   "source": [
    "libreria(nombre='JS',direccion='192.168.0.1',puerto=80)"
   ]
  },
  {
   "cell_type": "code",
   "execution_count": null,
   "metadata": {},
   "outputs": [],
   "source": []
  },
  {
   "cell_type": "code",
   "execution_count": null,
   "metadata": {},
   "outputs": [],
   "source": []
  },
  {
   "cell_type": "code",
   "execution_count": null,
   "metadata": {},
   "outputs": [],
   "source": []
  }
 ],
 "metadata": {
  "kernelspec": {
   "display_name": "Python 3",
   "language": "python",
   "name": "python3"
  },
  "language_info": {
   "codemirror_mode": {
    "name": "ipython",
    "version": 3
   },
   "file_extension": ".py",
   "mimetype": "text/x-python",
   "name": "python",
   "nbconvert_exporter": "python",
   "pygments_lexer": "ipython3",
   "version": "3.7.1"
  }
 },
 "nbformat": 4,
 "nbformat_minor": 2
}
